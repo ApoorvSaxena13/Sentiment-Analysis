{
 "cells": [
  {
   "cell_type": "markdown",
   "id": "83d2599e",
   "metadata": {},
   "source": [
    "# Install and Import Dependencies"
   ]
  },
  {
   "cell_type": "code",
   "execution_count": 34,
   "id": "3faef471",
   "metadata": {},
   "outputs": [
    {
     "name": "stdout",
     "output_type": "stream",
     "text": [
      "Looking in links: https://download.pytorch.org/whl/torch_stable.html\n",
      "Requirement already satisfied: torch==1.8.1+cu111 in c:\\users\\apoorv saxena\\anaconda3\\lib\\site-packages (1.8.1+cu111)\n",
      "Requirement already satisfied: torchvision==0.9.1+cu111 in c:\\users\\apoorv saxena\\anaconda3\\lib\\site-packages (0.9.1+cu111)\n",
      "Requirement already satisfied: torchaudio===0.8.1 in c:\\users\\apoorv saxena\\anaconda3\\lib\\site-packages (0.8.1)\n",
      "Requirement already satisfied: typing-extensions in c:\\users\\apoorv saxena\\anaconda3\\lib\\site-packages (from torch==1.8.1+cu111) (4.3.0)\n",
      "Requirement already satisfied: numpy in c:\\users\\apoorv saxena\\anaconda3\\lib\\site-packages (from torch==1.8.1+cu111) (1.21.5)\n",
      "Requirement already satisfied: pillow>=4.1.1 in c:\\users\\apoorv saxena\\anaconda3\\lib\\site-packages (from torchvision==0.9.1+cu111) (9.2.0)\n"
     ]
    }
   ],
   "source": [
    "!pip install torch==1.8.1+cu111 torchvision==0.9.1+cu111 torchaudio===0.8.1 -f https://download.pytorch.org/whl/torch_stable.html"
   ]
  },
  {
   "cell_type": "code",
   "execution_count": 3,
   "id": "8635a4f2",
   "metadata": {
    "scrolled": false
   },
   "outputs": [
    {
     "name": "stdout",
     "output_type": "stream",
     "text": [
      "Requirement already satisfied: transformers in c:\\users\\apoorv saxena\\anaconda3\\lib\\site-packages (4.28.1)\n",
      "Requirement already satisfied: requests in c:\\users\\apoorv saxena\\anaconda3\\lib\\site-packages (2.28.1)\n",
      "Requirement already satisfied: beautifulsoup4 in c:\\users\\apoorv saxena\\anaconda3\\lib\\site-packages (4.11.1)\n",
      "Requirement already satisfied: pandas in c:\\users\\apoorv saxena\\anaconda3\\lib\\site-packages (1.4.4)\n",
      "Requirement already satisfied: numpy in c:\\users\\apoorv saxena\\anaconda3\\lib\\site-packages (1.21.5)\n",
      "Requirement already satisfied: pyyaml>=5.1 in c:\\users\\apoorv saxena\\anaconda3\\lib\\site-packages (from transformers) (6.0)\n",
      "Requirement already satisfied: filelock in c:\\users\\apoorv saxena\\anaconda3\\lib\\site-packages (from transformers) (3.6.0)\n",
      "Requirement already satisfied: regex!=2019.12.17 in c:\\users\\apoorv saxena\\anaconda3\\lib\\site-packages (from transformers) (2022.7.9)\n",
      "Requirement already satisfied: tqdm>=4.27 in c:\\users\\apoorv saxena\\anaconda3\\lib\\site-packages (from transformers) (4.64.1)\n",
      "Requirement already satisfied: packaging>=20.0 in c:\\users\\apoorv saxena\\anaconda3\\lib\\site-packages (from transformers) (21.3)\n",
      "Requirement already satisfied: huggingface-hub<1.0,>=0.11.0 in c:\\users\\apoorv saxena\\anaconda3\\lib\\site-packages (from transformers) (0.14.1)\n",
      "Requirement already satisfied: tokenizers!=0.11.3,<0.14,>=0.11.1 in c:\\users\\apoorv saxena\\anaconda3\\lib\\site-packages (from transformers) (0.13.3)\n",
      "Requirement already satisfied: idna<4,>=2.5 in c:\\users\\apoorv saxena\\anaconda3\\lib\\site-packages (from requests) (3.3)\n",
      "Requirement already satisfied: charset-normalizer<3,>=2 in c:\\users\\apoorv saxena\\anaconda3\\lib\\site-packages (from requests) (2.0.4)\n",
      "Requirement already satisfied: certifi>=2017.4.17 in c:\\users\\apoorv saxena\\anaconda3\\lib\\site-packages (from requests) (2022.9.14)\n",
      "Requirement already satisfied: urllib3<1.27,>=1.21.1 in c:\\users\\apoorv saxena\\anaconda3\\lib\\site-packages (from requests) (1.26.11)\n",
      "Requirement already satisfied: soupsieve>1.2 in c:\\users\\apoorv saxena\\anaconda3\\lib\\site-packages (from beautifulsoup4) (2.3.1)\n",
      "Requirement already satisfied: python-dateutil>=2.8.1 in c:\\users\\apoorv saxena\\anaconda3\\lib\\site-packages (from pandas) (2.8.2)\n",
      "Requirement already satisfied: pytz>=2020.1 in c:\\users\\apoorv saxena\\anaconda3\\lib\\site-packages (from pandas) (2022.1)\n",
      "Requirement already satisfied: fsspec in c:\\users\\apoorv saxena\\anaconda3\\lib\\site-packages (from huggingface-hub<1.0,>=0.11.0->transformers) (2022.7.1)\n",
      "Requirement already satisfied: typing-extensions>=3.7.4.3 in c:\\users\\apoorv saxena\\anaconda3\\lib\\site-packages (from huggingface-hub<1.0,>=0.11.0->transformers) (4.3.0)\n",
      "Requirement already satisfied: pyparsing!=3.0.5,>=2.0.2 in c:\\users\\apoorv saxena\\anaconda3\\lib\\site-packages (from packaging>=20.0->transformers) (3.0.9)\n",
      "Requirement already satisfied: six>=1.5 in c:\\users\\apoorv saxena\\anaconda3\\lib\\site-packages (from python-dateutil>=2.8.1->pandas) (1.16.0)\n",
      "Requirement already satisfied: colorama in c:\\users\\apoorv saxena\\anaconda3\\lib\\site-packages (from tqdm>=4.27->transformers) (0.4.5)\n"
     ]
    }
   ],
   "source": [
    "!pip install transformers requests beautifulsoup4 pandas numpy\n"
   ]
  },
  {
   "cell_type": "code",
   "execution_count": 4,
   "id": "5822f685",
   "metadata": {},
   "outputs": [],
   "source": [
    "from transformers import AutoTokenizer, AutoModelForSequenceClassification\n",
    "import torch\n",
    "import requests\n",
    "from bs4 import BeautifulSoup\n",
    "import re"
   ]
  },
  {
   "cell_type": "markdown",
   "id": "4ca3c56e",
   "metadata": {},
   "source": [
    "# Instantiate Model"
   ]
  },
  {
   "cell_type": "code",
   "execution_count": 5,
   "id": "29124762",
   "metadata": {},
   "outputs": [],
   "source": [
    "tokenizer = AutoTokenizer.from_pretrained('nlptown/bert-base-multilingual-uncased-sentiment')\n",
    "\n",
    "model = AutoModelForSequenceClassification.from_pretrained('nlptown/bert-base-multilingual-uncased-sentiment')"
   ]
  },
  {
   "cell_type": "markdown",
   "id": "0f08439d",
   "metadata": {},
   "source": [
    "# Encode and Calculate Sentiment"
   ]
  },
  {
   "cell_type": "code",
   "execution_count": 39,
   "id": "ab824cb2",
   "metadata": {},
   "outputs": [
    {
     "data": {
      "text/plain": [
       "tensor([[-1.9499, -1.0195,  0.8797,  1.4231,  0.5120]],\n",
       "       grad_fn=<AddmmBackward>)"
      ]
     },
     "execution_count": 39,
     "metadata": {},
     "output_type": "execute_result"
    }
   ],
   "source": [
    "tokens = tokenizer.encode('The food was good', return_tensors='pt')\n",
    "result = model(tokens)\n",
    "result.logits\n",
    "#int(torch.argmax(result.logits))+1"
   ]
  },
  {
   "cell_type": "markdown",
   "id": "08883bbe",
   "metadata": {},
   "source": [
    "# Collect Reviews"
   ]
  },
  {
   "cell_type": "code",
   "execution_count": 17,
   "id": "d3ab1782",
   "metadata": {},
   "outputs": [],
   "source": [
    "#r = requests.get('https://www.yelp.com/biz/social-brew-cafe-pyrmont')\n",
    "r = requests.get('https://www.imdb.com/title/tt9813792/reviews')\n",
    "soup = BeautifulSoup(r.text, 'html.parser')\n",
    "regex = re.compile('.*text.*')\n",
    "results = soup.find_all('div', {'class':regex})\n",
    "reviews = [result.text for result in results]"
   ]
  },
  {
   "cell_type": "code",
   "execution_count": 18,
   "id": "31222096",
   "metadata": {},
   "outputs": [
    {
     "data": {
      "text/plain": [
       "[\"Very intriguing series. Good storytelling. Good characters as in most of them have common sense. Good horror tv. Gory as heck in parts. Lots of mysterious things to ponder. I very much enjoyed season 1 and hope they make another. There's not many good horror tv shows out there anymore. This is a good one imo.\",\n",
       " '\\n                    219 out of 244 found this helpful.\\n                        \\n                            Was this review helpful?  Sign in to vote.\\n                        \\n\\nPermalink\\n',\n",
       " \"I wasn't sure what to expect from From. I've read everything from it's like Lost to it's a generic horror version of Lost. Lost is one of my favorite shows ever and the reviews for this have been mostly positive so I figured I'd give it a try and I'm glad I did. I was hooked from the first episode to the last. I'm so glad they already renewed this because there are so many unanswered questions still. That's probably the only negative thing I have say about his show, that it didn't offer enough answers in the first season. It takes a little time to really get going but once it does you'll be addicted and want to binge it as quickly as possible.\",\n",
       " '\\n                    46 out of 53 found this helpful.\\n                        \\n                            Was this review helpful?  Sign in to vote.\\n                        \\n\\nPermalink\\n',\n",
       " \"I never heard of this until a few weeks ago until I saw a promo for Season 2 so I decided to give it a shot.I've finished the first 7 episodes so far and I'm hooked.I can't wait to see where it goes. Hopefully the writers had a story arc in mind when they first started so we don't get into a LOST situation where the show just starts spinning it's wheels without any direction.I should have the last 3 episodes of Season 1 completed by the weekend. Then I can start Season 2.How do I see so many short reviews when I have to keep typing and typing to get to the minimum number of characters?\",\n",
       " '\\n                    13 out of 13 found this helpful.\\n                        \\n                            Was this review helpful?  Sign in to vote.\\n                        \\n\\nPermalink\\n',\n",
       " \"It's a slow burner, but it has me hooked. I want to know why these people are trapped in this town and who or what has trapped them. And Harold Perrineau just soaks up the oxygen when he's on-screen. He's such an excellent actor. And you truly want to know what his backstory is, especially with his son. I think if people just be patient and allow the story to unfold, there will be an excellent pay-off. Lost was slow like this and it ultimately became a hit. I like for a story to unfold slowly so we can develop a sense of knowing who these characters are and in this case, what is stalking them and why.\",\n",
       " '\\n                    220 out of 273 found this helpful.\\n                        \\n                            Was this review helpful?  Sign in to vote.\\n                        \\n\\nPermalink\\n',\n",
       " \"I am really enjoying this series, really hanging out for every episode. Very surprised by the negative comments and reviews, calling it boring. I found it anything but, great acting, and an excellent script. Perhaps it's the Squid Game generation, just wanting to see lots of poeple killed for no particular reason other than greed, and not having to think too hard. Granted there isn't much action in the first couple of episodes, but lots for character building and back story which is intriguing. It's hard to say too much without givng things away, but lots of twists and turns and shocks along the way. If you enjoy good storytelling with, despite comments to the contary, plenty of horror and shocks thrown in, this is highly recommended.\",\n",
       " '\\n                    130 out of 165 found this helpful.\\n                        \\n                            Was this review helpful?  Sign in to vote.\\n                        \\n\\nPermalink\\n',\n",
       " \"From was every bit as good as all the hype surrounding it. It was definitely a lot better than anything I was expecting. Even though there is horror and some gore in it, this show is so much more than just some horror show. I know a lot of reviews have compared it to Lost and while it's nowhere near as good as that show I can see where they get the comparison. It's a very clever show that has a lot of unknown and mystery to it. Every answer we get just leads to more questions and I'm worried that there's going to be more questions than answers but so far it has been a fun show to watch. It's popular enough to have already been renewed for a second season so I'm looking forward to more.\",\n",
       " '\\n                    13 out of 14 found this helpful.\\n                        \\n                            Was this review helpful?  Sign in to vote.\\n                        \\n\\nPermalink\\n',\n",
       " \"I'm enjoying this series so far, it's not anything really original, but it does have its moments here and there. Very much reminds me of Wayward Pines as others have mentioned. But it has it's own little twists and tweaks, and 5 episodes in and they haven't really given away much about what is out in the Woods and how does this town Trap people from all over. It is like a Twilight Zone styled episode, drawn out into a series.But, I'm liking it so far and that theme song, at 1st I thought it was Leonard Cohen singing Que Sera, Sera. But it's Not... But still very good rendition and super creepy sound to an old Doris Day Classic.I say watch it, if you like stuff like The Twilight Zone, Wayward Pines, The Wicker Man, Population 436, or The 3rd Day.\",\n",
       " '\\n                    118 out of 160 found this helpful.\\n                        \\n                            Was this review helpful?  Sign in to vote.\\n                        \\n\\nPermalink\\n',\n",
       " \"All in all a nice little series with an interesting idea. But also a nice one that can't quite decide whether it wants to be more horror, thriller or science fiction. A quite oppressive and exciting series has been created here. I liked the idea right away and was not disappointed. The subliminal menace of the night is felt every minute. I also like the search for a way out with ongoing time. Nevertheless, I don't think it's a good thing that you apparently have to look back over several seasons to get an explanation, which is why I've become so sympathetic to short series. Unfortunately, the high expectations cannot be met throughout, and it then flattens out considerably in between. AND the actors all don't get an Oscar for it, sometimes kind of flat. Leaving aside the latter,But in the end I make a recommendation here.\",\n",
       " '\\n                    12 out of 14 found this helpful.\\n                        \\n                            Was this review helpful?  Sign in to vote.\\n                        \\n\\nPermalink\\n',\n",
       " 'The show has good acting, a VERY interesting story, and has JUST BEGAN! I watched the first 6 episodes, and the feel and tone of the show is a bit mysterious, a bit depressing, but very interesting. It is not a huge budged show, but more along the lines of a big budged Twilight Zone episode. Great scenery, an interesting \"Town\", and I can not wait to see where this all goes. Everyone saying it is slow, simply want a lot of action or big reveals or cliffhanger endings. This show is paced moderately slowly, but has FAR better atmosphere building slowly, instead of the false big reveals most shows employ.',\n",
       " '\\n                    93 out of 125 found this helpful.\\n                        \\n                            Was this review helpful?  Sign in to vote.\\n                        \\n\\nPermalink\\n',\n",
       " \"The preview looked like a hodgepodge of several different shows like Wayward Pines ,Lost and a little Under the Dome thrown in. I expected it to have a vague storyline after seeing that it's produced by the same makers as Lost but it has a solid storyline and the characters are likable. While not perfect, it does have suspense and is good enough to keep me hooked. A pleasant surprise.\",\n",
       " '\\n                    95 out of 127 found this helpful.\\n                        \\n                            Was this review helpful?  Sign in to vote.\\n                        \\n\\nPermalink\\n',\n",
       " \"From the creators of Lost...of course I'm gonna watch this! Loving it so far. Some of the actors are so so and annoying but others are intriguing. Love the main actor who was in Lost also.\",\n",
       " '\\n                    76 out of 112 found this helpful.\\n                        \\n                            Was this review helpful?  Sign in to vote.\\n                        \\n\\nPermalink\\n',\n",
       " \"Having seen the 1st 3 episodes i can say that I will surely be here for the entire season and beyond if they get another. It's been solid. Good story good characters good monsters. I like the premise. I personally haven't seen much problem with the acting as some people have said. Give it a shot.\",\n",
       " '\\n                    96 out of 127 found this helpful.\\n                        \\n                            Was this review helpful?  Sign in to vote.\\n                        \\n\\nPermalink\\n',\n",
       " \"Before I decide my rating I waited for 10 episodes. The story line has climbed and piqued my attention. The backstory is interesting and I can't wait to find out where the night crawlers are from.Season 2 will have a lot of living up standard.\",\n",
       " '\\n                    45 out of 63 found this helpful.\\n                        \\n                            Was this review helpful?  Sign in to vote.\\n                        \\n\\nPermalink\\n',\n",
       " \"Godammit the pretext of the series is very intriguing but the delivery is very annoying. I don't care about the people and their growing relationships. All the while they are leading ordinary lives nobody is trying to figure out what the enemy are & how to beat them.The electricity thing is just stupidly odd. It's just a totally random thing thrown in to a supernatural plot. None of them are trying to apply any logic to the situation and find ways out.Food is magically plentiful in the local restaurant. I mean come on. It's treating the audience line idiots at this point (last episode).I wont watch a second series unless someone tells me something actually happens in it. Yet another series with oodles of potential dies on the heap of crap drama bs.\",\n",
       " '\\n                    25 out of 33 found this helpful.\\n                        \\n                            Was this review helpful?  Sign in to vote.\\n                        \\n\\nPermalink\\n',\n",
       " \"I'm of the mindset that 90% of movies and television is utter garbage. Reboots, remakes and plotlines that have been done to death. Then... I discovered this show.I don't want to give anything away for those who've never seen it. It's an original plot, great writers, underrated actors, solid acting and always keeps you wondering, just **what exactly** is really going on?? On top of that, the town has that errie, rundown vibe.I'm glad to see that Harold Perrineau has got a series worthy of his talent. All of the other actors are new to me, but they turn in good performances.After binging on season 1 last year, I impatiently waited for season 2. I've got my fingers crossed that the writers can keep it up.\",\n",
       " '\\n                    10 out of 11 found this helpful.\\n                        \\n                            Was this review helpful?  Sign in to vote.\\n                        \\n\\nPermalink\\n',\n",
       " '\"From\" is fantastic. Unlike the rest of garbage spewed out by Netflix and such, this one has solid arcs from the first frame of the pilot.Characters act realistically, and the amount of difficulties the protagonist encounter make it look like an impossible situation within the first episode.Then, there\\'s the horror. \"From\" is genuinely terrifying - but it\\'s not just the monsters, it\\'s the people themselves. Their frailties, their vulnerabilities, the difficulty of having children in a seemingly impossible situation.The actors are doing a great job. From not \\'buying in\\' the story which makes it even scarier, to the emotional breakdowns bound to happen, the whole thing \\'works\\'.There\\'s a tremendous amount of gore, it\\'s genuinely bloody and horrific.By far, the best horror I\\'ve seen in years. Beats everything hands down. They better do a second season, and 3rd, and so on. It\\'s amazinng TV.Watch it, but fair warning - it\\'s genuinely scary.',\n",
       " '\\n                    20 out of 27 found this helpful.\\n                        \\n                            Was this review helpful?  Sign in to vote.\\n                        \\n\\nPermalink\\n',\n",
       " \"Love it. It's different and creepy it's going to be a good one I can tell! I like the actors. Some shows the actors aren't great but they are on this one.\",\n",
       " '\\n                    71 out of 105 found this helpful.\\n                        \\n                            Was this review helpful?  Sign in to vote.\\n                        \\n\\nPermalink\\n',\n",
       " 'I was bored feeling like I had seen every movie and every show especially when it comes to the thriller and horror genre. When I saw this show was on EPIX I don\\'t know why but I thought, eh, low quality, lifetime type of show. Boy was I wrong. Similar feel to the show \"The Leftovers\". It\\'s a unique story that hasn\\'t been done before. The people standing outside of the windows truly gives you the creeps!! I also love the mystery aspect of how people show up in this weird little town. When I first started watching I thought wow a solid 8.5 show, but the reason I lowered the rating was due to the last episode. For some reason it got a little strange and confusing on the last episode. I\\'m super hopeful that this will continue to be a great series, but something tells me it will get weirder rather than better. I don\\'t see how they can put all the puzzle pieces together neatly, but hey! I may be underestimating! Can\\'t wait for season 2! I\\'ll be sure to update my review after more seasons are released to give the show a fair and accurate rating.',\n",
       " '\\n                    15 out of 19 found this helpful.\\n                        \\n                            Was this review helpful?  Sign in to vote.\\n                        \\n\\nPermalink\\n',\n",
       " \"So the mega corps execs have been searching a long time to find the next Lost. All have failed , some came close and others just sank . So it is with great pleasure that I came across From quite probably the nearest and best thing since lost.So why you may well ask. Well it has Harold Perrineau for a start . Still not quite forgiven for his murder spree but none the less an older more wise and a character that gives the show some gravitas. The actors , even the kids , give excellent performances . The general feeling of malevolence through each episode is palpable. All the characters are well fleshed out with back stories , like Lost , available in flashbacks. Even the incidental music is a homage to Lost.The horror is horrific but done in a more Buffy style than Texas chain saw massacre.The mystery is both mysterioso and yet strangely familiar.If you haven's seen it , then its strap line should be , cross Lost , Wayward Pines and Buffy, Sprinkle a little bit of From Dusk till dawn and hey presto you have a very enjoyable experience.\",\n",
       " '\\n                    13 out of 16 found this helpful.\\n                        \\n                            Was this review helpful?  Sign in to vote.\\n                        \\n\\nPermalink\\n',\n",
       " 'I had really low expectations for this but I\\'m a fan of dystopian series so I was intrigued to see what it was about. I don\\'t know if I\\'m impressed because I didn\\'t expect it to be any good or if it\\'s actually pretty decent so far. Sorta reminds me of wayward pines with an added gory touch. I think it\\'s well thought out but there are some things that I keep wondering about, like where\\'s the electricity coming from, or the livestock that Kenny says they don\\'t know comes from. Or the ghost zombie creatures origin, why only show up at night, where the totem things they hang are from; but the show just premiered and there\\'s still 7 episodes to go to explore that, I\\'m just hoping they don\\'t leave us with unnecessary plot holes or left out details because this looks like a potentially good show and I\\'m really excited for it. I don\\'t want it to end up like \"Yellowjackets\" which kept teasing in each episode that there was so much more to the story and the savagery it was gonna show, it was so stretched out yet at the end didn\\'t deliver any of that. Just like yellowjackets, everything in \"From\" is pretty decent, the production, acting, the storyline... hopefully it doesn\\'t hold back on the thriller aspect as well. I\\'ve seen people complain about the acting but I think it\\'s okay, sure no one\\'s winning an Emmy here but it\\'s not terrible. I just think the background characters are wayy too in the background, they could talk more to give us a better impression on the town. I don\\'t know if it\\'s based on a book but the name is not alluring enough, still, the show has great potential and if done right could last several seasons.Edit: Season 1 finale and what what I expect for seasons ahead.Alright the season finished not too long ago now. It ends with more questions than it answers but it\\'s a pretty decent season. We learn so much more of where they\\'re stranded but nothing to help us understand it better. Probably did it for the suspense, to have us eager for s2. I increased my rating from a 6, not the best show out there but it\\'s a good horror watch. It didn\\'t give out any answers but so much more is uncovered which leads to several possible storylines for the next season. If it follows this trajectory it\\'s gonna end up being a really amazing show. I don\\'t think they\\'ll end up finding their way home anytime soon, I think there\\'s too many stories left to tell from the small stranded community, and like many shows that had similar dilemmas, they\\'ll milk them and then several seasons later spin a story where they all escape or just open up to a bigger world. Like what happened with \"Westworld\" in S3 or \"The 100\" when they were stuck in that bunker or \"snowpiercer\" when they brought along Big Alice. Oh, how could I forget \"TWD\", probably wrote the book on that. They open up the scope of the series to allow for more stories to take place. But for now, \"From\" still has a lotta stories to tell in that small community and I think season two will take place in the same town, hopefully it\\'ll focus more on giving us a better idea of the creatures and everything else creepy about the show.',\n",
       " '\\n                    39 out of 61 found this helpful.\\n                        \\n                            Was this review helpful?  Sign in to vote.\\n                        \\n\\nPermalink\\n',\n",
       " 'What I think I loved most is I did not have to wait 6 episodes to know what was the reason for hiding at night. They got me right at the gate and I was hooked. However, the reason I stayed for the entire season was the story development. As well as the oddity of it all. I mean, radio contact and \"she shouldn\\'t be digging that hole\".... I was shook!! We also crossed the bridge on \"did we survive the crash?\".... early on, there is a lot to this story. That is what makes it worth a 9, I wasn\\'t bored. Yes there are some cliched tropes, but as the story develops it all becomes awesomely engaging. I loved ... LOVED ... when everyone in unison within the first episode is like \"then you come to the tree\" that had me in goosebumps. I guess because I\\'ve road tripped and we\\'ve all at some point or another have come across a tree in the road. Then there\\'s \"Kevin\". This character is the cause of massive narrative and situational change and we have little to no idea who he is.Now that I write it down that whole story wasn\\'t dragged out and once you realize who is leaving flowers out and why, it gets right to it and again, another reason it\\'s great.... So I have just changed it to 10 stars because fair game, they didn\\'t waste extra episodes on developing Kevin and inducing anxiety as to when he would \"open a window\" they got right to it. So this is a 10 because the story doesn\\'t lag, it builds itself every episode story wise. There are some characters I want to slap around, but otherwise it is truly a great show. I mean the trees, the hole in the basement, the wall about, the lighthouse! ..... I cannot wait for April 23rd because this preview of episodes on AppleTV made me subscribe to MGM+ because the show was my entire weekend. Perfect.',\n",
       " '\\n                    12 out of 15 found this helpful.\\n                        \\n                            Was this review helpful?  Sign in to vote.\\n                        \\n\\nPermalink\\n',\n",
       " \"I'm really interested in seeing how this plays out and I'm even going to subscribe to the channel just to watch this show! The acting is very good for the majority of the characters. I don't want to create a spoiler so I will just say I really truly hope that it doesn't turn out to be something lame like at the end of a particular Stephen King movie. The scary scenes really are creepy and well done, with the exception of when the two characters get out of a tent the next morning to discover certain material on the bushes and trees around them, which let the lead character to something straight out of the Stephen King novel that I was referencing, lol. Please have more imagination than that! And you don't have to have everybody swearing the f word including the teenager when yelling at her baby brother. It is pretty ridiculous and seems to knock the quality down a bit. Other than that they're doing a great job with this! Just don't blow it with a Stephen King ending, LOL.\",\n",
       " '\\n                    10 out of 12 found this helpful.\\n                        \\n                            Was this review helpful?  Sign in to vote.\\n                        \\n\\nPermalink\\n',\n",
       " \"I don't typically read reviews before picking something to watch so I could have easily missed this and that would of been a shame. The second the RV kept finding the town and crashed, Wayward Pines crossed my mind. Although I have forgotten a lot of that show. From has definitely been a lot better than anything I was expecting. Even though there is horror and some gore, this show is so much more. It's very clever with a lot of unknown mystery to it. Every answer leads to more questions/ speculation. I am concerned there will be more questions than answers but so far it has been a fun show to watch. Plenty of mystery, thriller, some gore, some drama. I'm thoroughly pleased so far. It's definitely in my wheelhouse and it's great to see a TV show hitting those marks. I hope it continues to intrigue and doesn't have a cop-out ending. If they can manage that then excellent. For now, I'm definitely in for the ride.\",\n",
       " '\\n                    10 out of 11 found this helpful.\\n                        \\n                            Was this review helpful?  Sign in to vote.\\n                        \\n\\nPermalink\\n',\n",
       " \"Early on it's always hard to tell, but sofar From seems to walk the line between being a supernatural mystery show and an outright horror show.Granted, I'm a pretty big fan of LOST (Including the ending, which is a hell of a lot better than it gets credit for.) which From shares *some* dna with. From, however, leans away from the global cast, exotic locations, and big punchy speeches of LOST, going much more for an intimate setting with a much more claustraphobic feel.I was particularly surprised by the character dialogue, which tends to feel almost improved, as characters stutter or stumble over words or use somewhat half-baked turns of phrase lend a lot of believability to most characters without going far enough to feel messy or wrong. It's that perfect level of mistake that helps sell the world as real.I'm excited to see how the series develops as we go on, and personally like having a new episode to check out every week(at lest for the next 6 or so weeks.)--Mid Season Update--\\nMysteries have evolved and expanded consistently, performances are still excellent. Writing can be clunky in certain scenes, but the performance and direction usually makes it work. The middle episodes of From have pulled away from the horror somewhat in favor of exploring the mystery and world.I would categorize as a must see for fans of horror and mystery TV.\",\n",
       " '\\n                    62 out of 91 found this helpful.\\n                        \\n                            Was this review helpful?  Sign in to vote.\\n                        \\n\\nPermalink\\n',\n",
       " \"I noticed 1 rating comments getting downvoted into oblivion. Doesn't mean they're wrong, I too am trying to like this show because the overall concept is very interesting. But the execution feels way off. Just too many plot points defying logic and common sense.Given the consequences of opening a door or window at night, THINK would any of you who have children allow ANY of them to sleep alone in their own room? OR would any adult with a working brain choose to live in a big house with dozens of strangers, moody teenagers, and psychologically challenged individuals who do drugs, smoke weed, drink, and at the same time TRUST THAT NONE OF THEM will open a window or a door at night?There are ways to handle these type of plot points so that it makes sense but this is what happens with lazy writing. And I know, most characters in horrors make bad decisions (I've seen the Progressive commercial).. but still!?Aside from that the overall tone feels off. Wouldn't it be better to keep the tension level on HIGH, like it was at the end of episode 1? Way too often the towns people act like they're living normal progressive lives with a bright future, and not as though any mistake at night means you die a horrible death along with your friends and family. Most if not all of them should be on the verge of a mental break down!I can see the producers are trying to make a statement that people can endure and BE KIND in bad situations, but this is supposed to be HORROR, not a case study on humanity.\",\n",
       " '\\n                    112 out of 187 found this helpful.\\n                        \\n                            Was this review helpful?  Sign in to vote.\\n                        \\n\\nPermalink\\n',\n",
       " '\\n']"
      ]
     },
     "execution_count": 18,
     "metadata": {},
     "output_type": "execute_result"
    }
   ],
   "source": [
    "reviews\n"
   ]
  },
  {
   "cell_type": "markdown",
   "id": "f8ddcbea",
   "metadata": {},
   "source": [
    "# Load Reviews into DataFrame and Score"
   ]
  },
  {
   "cell_type": "code",
   "execution_count": 19,
   "id": "0781f545",
   "metadata": {},
   "outputs": [],
   "source": [
    "import numpy as np\n",
    "import pandas as pd"
   ]
  },
  {
   "cell_type": "code",
   "execution_count": 20,
   "id": "411e4586",
   "metadata": {},
   "outputs": [],
   "source": [
    "df = pd.DataFrame(np.array(reviews), columns=['review'])"
   ]
  },
  {
   "cell_type": "code",
   "execution_count": 21,
   "id": "45df8622",
   "metadata": {},
   "outputs": [
    {
     "data": {
      "text/plain": [
       "\"Very intriguing series. Good storytelling. Good characters as in most of them have common sense. Good horror tv. Gory as heck in parts. Lots of mysterious things to ponder. I very much enjoyed season 1 and hope they make another. There's not many good horror tv shows out there anymore. This is a good one imo.\""
      ]
     },
     "execution_count": 21,
     "metadata": {},
     "output_type": "execute_result"
    }
   ],
   "source": [
    "df['review'].iloc[0]"
   ]
  },
  {
   "cell_type": "code",
   "execution_count": 22,
   "id": "8d081daa",
   "metadata": {},
   "outputs": [],
   "source": [
    "def sentiment_score(review):\n",
    "    tokens = tokenizer.encode(review, return_tensors='pt')\n",
    "    result = model(tokens)\n",
    "    return int(torch.argmax(result.logits))+1"
   ]
  },
  {
   "cell_type": "code",
   "execution_count": 23,
   "id": "32d7bfc6",
   "metadata": {},
   "outputs": [
    {
     "data": {
      "text/plain": [
       "1"
      ]
     },
     "execution_count": 23,
     "metadata": {},
     "output_type": "execute_result"
    }
   ],
   "source": [
    "sentiment_score(df['review'].iloc[1])"
   ]
  },
  {
   "cell_type": "code",
   "execution_count": 24,
   "id": "4606905a",
   "metadata": {},
   "outputs": [],
   "source": [
    "df['sentiment'] = df['review'].apply(lambda x: sentiment_score(x[:512]))"
   ]
  },
  {
   "cell_type": "code",
   "execution_count": 25,
   "id": "c946fdde",
   "metadata": {},
   "outputs": [
    {
     "data": {
      "text/html": [
       "<div>\n",
       "<style scoped>\n",
       "    .dataframe tbody tr th:only-of-type {\n",
       "        vertical-align: middle;\n",
       "    }\n",
       "\n",
       "    .dataframe tbody tr th {\n",
       "        vertical-align: top;\n",
       "    }\n",
       "\n",
       "    .dataframe thead th {\n",
       "        text-align: right;\n",
       "    }\n",
       "</style>\n",
       "<table border=\"1\" class=\"dataframe\">\n",
       "  <thead>\n",
       "    <tr style=\"text-align: right;\">\n",
       "      <th></th>\n",
       "      <th>review</th>\n",
       "      <th>sentiment</th>\n",
       "    </tr>\n",
       "  </thead>\n",
       "  <tbody>\n",
       "    <tr>\n",
       "      <th>0</th>\n",
       "      <td>Very intriguing series. Good storytelling. Goo...</td>\n",
       "      <td>4</td>\n",
       "    </tr>\n",
       "    <tr>\n",
       "      <th>1</th>\n",
       "      <td>\\n                    219 out of 244 found thi...</td>\n",
       "      <td>1</td>\n",
       "    </tr>\n",
       "    <tr>\n",
       "      <th>2</th>\n",
       "      <td>I wasn't sure what to expect from From. I've r...</td>\n",
       "      <td>4</td>\n",
       "    </tr>\n",
       "    <tr>\n",
       "      <th>3</th>\n",
       "      <td>\\n                    46 out of 53 found this ...</td>\n",
       "      <td>1</td>\n",
       "    </tr>\n",
       "    <tr>\n",
       "      <th>4</th>\n",
       "      <td>I never heard of this until a few weeks ago un...</td>\n",
       "      <td>4</td>\n",
       "    </tr>\n",
       "    <tr>\n",
       "      <th>5</th>\n",
       "      <td>\\n                    13 out of 13 found this ...</td>\n",
       "      <td>1</td>\n",
       "    </tr>\n",
       "    <tr>\n",
       "      <th>6</th>\n",
       "      <td>It's a slow burner, but it has me hooked. I wa...</td>\n",
       "      <td>4</td>\n",
       "    </tr>\n",
       "    <tr>\n",
       "      <th>7</th>\n",
       "      <td>\\n                    220 out of 273 found thi...</td>\n",
       "      <td>1</td>\n",
       "    </tr>\n",
       "    <tr>\n",
       "      <th>8</th>\n",
       "      <td>I am really enjoying this series, really hangi...</td>\n",
       "      <td>4</td>\n",
       "    </tr>\n",
       "    <tr>\n",
       "      <th>9</th>\n",
       "      <td>\\n                    130 out of 165 found thi...</td>\n",
       "      <td>1</td>\n",
       "    </tr>\n",
       "    <tr>\n",
       "      <th>10</th>\n",
       "      <td>From was every bit as good as all the hype sur...</td>\n",
       "      <td>4</td>\n",
       "    </tr>\n",
       "    <tr>\n",
       "      <th>11</th>\n",
       "      <td>\\n                    13 out of 14 found this ...</td>\n",
       "      <td>4</td>\n",
       "    </tr>\n",
       "    <tr>\n",
       "      <th>12</th>\n",
       "      <td>I'm enjoying this series so far, it's not anyt...</td>\n",
       "      <td>4</td>\n",
       "    </tr>\n",
       "    <tr>\n",
       "      <th>13</th>\n",
       "      <td>\\n                    118 out of 160 found thi...</td>\n",
       "      <td>1</td>\n",
       "    </tr>\n",
       "    <tr>\n",
       "      <th>14</th>\n",
       "      <td>All in all a nice little series with an intere...</td>\n",
       "      <td>4</td>\n",
       "    </tr>\n",
       "    <tr>\n",
       "      <th>15</th>\n",
       "      <td>\\n                    12 out of 14 found this ...</td>\n",
       "      <td>1</td>\n",
       "    </tr>\n",
       "    <tr>\n",
       "      <th>16</th>\n",
       "      <td>The show has good acting, a VERY interesting s...</td>\n",
       "      <td>4</td>\n",
       "    </tr>\n",
       "    <tr>\n",
       "      <th>17</th>\n",
       "      <td>\\n                    93 out of 125 found this...</td>\n",
       "      <td>1</td>\n",
       "    </tr>\n",
       "    <tr>\n",
       "      <th>18</th>\n",
       "      <td>The preview looked like a hodgepodge of severa...</td>\n",
       "      <td>4</td>\n",
       "    </tr>\n",
       "    <tr>\n",
       "      <th>19</th>\n",
       "      <td>\\n                    95 out of 127 found this...</td>\n",
       "      <td>1</td>\n",
       "    </tr>\n",
       "    <tr>\n",
       "      <th>20</th>\n",
       "      <td>From the creators of Lost...of course I'm gonn...</td>\n",
       "      <td>4</td>\n",
       "    </tr>\n",
       "    <tr>\n",
       "      <th>21</th>\n",
       "      <td>\\n                    76 out of 112 found this...</td>\n",
       "      <td>1</td>\n",
       "    </tr>\n",
       "    <tr>\n",
       "      <th>22</th>\n",
       "      <td>Having seen the 1st 3 episodes i can say that ...</td>\n",
       "      <td>4</td>\n",
       "    </tr>\n",
       "    <tr>\n",
       "      <th>23</th>\n",
       "      <td>\\n                    96 out of 127 found this...</td>\n",
       "      <td>1</td>\n",
       "    </tr>\n",
       "    <tr>\n",
       "      <th>24</th>\n",
       "      <td>Before I decide my rating I waited for 10 epis...</td>\n",
       "      <td>4</td>\n",
       "    </tr>\n",
       "    <tr>\n",
       "      <th>25</th>\n",
       "      <td>\\n                    45 out of 63 found this ...</td>\n",
       "      <td>1</td>\n",
       "    </tr>\n",
       "    <tr>\n",
       "      <th>26</th>\n",
       "      <td>Godammit the pretext of the series is very int...</td>\n",
       "      <td>2</td>\n",
       "    </tr>\n",
       "    <tr>\n",
       "      <th>27</th>\n",
       "      <td>\\n                    25 out of 33 found this ...</td>\n",
       "      <td>1</td>\n",
       "    </tr>\n",
       "    <tr>\n",
       "      <th>28</th>\n",
       "      <td>I'm of the mindset that 90% of movies and tele...</td>\n",
       "      <td>1</td>\n",
       "    </tr>\n",
       "    <tr>\n",
       "      <th>29</th>\n",
       "      <td>\\n                    10 out of 11 found this ...</td>\n",
       "      <td>5</td>\n",
       "    </tr>\n",
       "    <tr>\n",
       "      <th>30</th>\n",
       "      <td>\"From\" is fantastic. Unlike the rest of garbag...</td>\n",
       "      <td>5</td>\n",
       "    </tr>\n",
       "    <tr>\n",
       "      <th>31</th>\n",
       "      <td>\\n                    20 out of 27 found this ...</td>\n",
       "      <td>1</td>\n",
       "    </tr>\n",
       "    <tr>\n",
       "      <th>32</th>\n",
       "      <td>Love it. It's different and creepy it's going ...</td>\n",
       "      <td>4</td>\n",
       "    </tr>\n",
       "    <tr>\n",
       "      <th>33</th>\n",
       "      <td>\\n                    71 out of 105 found this...</td>\n",
       "      <td>1</td>\n",
       "    </tr>\n",
       "    <tr>\n",
       "      <th>34</th>\n",
       "      <td>I was bored feeling like I had seen every movi...</td>\n",
       "      <td>4</td>\n",
       "    </tr>\n",
       "    <tr>\n",
       "      <th>35</th>\n",
       "      <td>\\n                    15 out of 19 found this ...</td>\n",
       "      <td>1</td>\n",
       "    </tr>\n",
       "    <tr>\n",
       "      <th>36</th>\n",
       "      <td>So the mega corps execs have been searching a ...</td>\n",
       "      <td>4</td>\n",
       "    </tr>\n",
       "    <tr>\n",
       "      <th>37</th>\n",
       "      <td>\\n                    13 out of 16 found this ...</td>\n",
       "      <td>1</td>\n",
       "    </tr>\n",
       "    <tr>\n",
       "      <th>38</th>\n",
       "      <td>I had really low expectations for this but I'm...</td>\n",
       "      <td>3</td>\n",
       "    </tr>\n",
       "    <tr>\n",
       "      <th>39</th>\n",
       "      <td>\\n                    39 out of 61 found this ...</td>\n",
       "      <td>1</td>\n",
       "    </tr>\n",
       "    <tr>\n",
       "      <th>40</th>\n",
       "      <td>What I think I loved most is I did not have to...</td>\n",
       "      <td>4</td>\n",
       "    </tr>\n",
       "    <tr>\n",
       "      <th>41</th>\n",
       "      <td>\\n                    12 out of 15 found this ...</td>\n",
       "      <td>1</td>\n",
       "    </tr>\n",
       "    <tr>\n",
       "      <th>42</th>\n",
       "      <td>I'm really interested in seeing how this plays...</td>\n",
       "      <td>4</td>\n",
       "    </tr>\n",
       "    <tr>\n",
       "      <th>43</th>\n",
       "      <td>\\n                    10 out of 12 found this ...</td>\n",
       "      <td>5</td>\n",
       "    </tr>\n",
       "    <tr>\n",
       "      <th>44</th>\n",
       "      <td>I don't typically read reviews before picking ...</td>\n",
       "      <td>5</td>\n",
       "    </tr>\n",
       "    <tr>\n",
       "      <th>45</th>\n",
       "      <td>\\n                    10 out of 11 found this ...</td>\n",
       "      <td>5</td>\n",
       "    </tr>\n",
       "    <tr>\n",
       "      <th>46</th>\n",
       "      <td>Early on it's always hard to tell, but sofar F...</td>\n",
       "      <td>3</td>\n",
       "    </tr>\n",
       "    <tr>\n",
       "      <th>47</th>\n",
       "      <td>\\n                    62 out of 91 found this ...</td>\n",
       "      <td>1</td>\n",
       "    </tr>\n",
       "    <tr>\n",
       "      <th>48</th>\n",
       "      <td>I noticed 1 rating comments getting downvoted ...</td>\n",
       "      <td>2</td>\n",
       "    </tr>\n",
       "    <tr>\n",
       "      <th>49</th>\n",
       "      <td>\\n                    112 out of 187 found thi...</td>\n",
       "      <td>1</td>\n",
       "    </tr>\n",
       "    <tr>\n",
       "      <th>50</th>\n",
       "      <td>\\n</td>\n",
       "      <td>4</td>\n",
       "    </tr>\n",
       "  </tbody>\n",
       "</table>\n",
       "</div>"
      ],
      "text/plain": [
       "                                               review  sentiment\n",
       "0   Very intriguing series. Good storytelling. Goo...          4\n",
       "1   \\n                    219 out of 244 found thi...          1\n",
       "2   I wasn't sure what to expect from From. I've r...          4\n",
       "3   \\n                    46 out of 53 found this ...          1\n",
       "4   I never heard of this until a few weeks ago un...          4\n",
       "5   \\n                    13 out of 13 found this ...          1\n",
       "6   It's a slow burner, but it has me hooked. I wa...          4\n",
       "7   \\n                    220 out of 273 found thi...          1\n",
       "8   I am really enjoying this series, really hangi...          4\n",
       "9   \\n                    130 out of 165 found thi...          1\n",
       "10  From was every bit as good as all the hype sur...          4\n",
       "11  \\n                    13 out of 14 found this ...          4\n",
       "12  I'm enjoying this series so far, it's not anyt...          4\n",
       "13  \\n                    118 out of 160 found thi...          1\n",
       "14  All in all a nice little series with an intere...          4\n",
       "15  \\n                    12 out of 14 found this ...          1\n",
       "16  The show has good acting, a VERY interesting s...          4\n",
       "17  \\n                    93 out of 125 found this...          1\n",
       "18  The preview looked like a hodgepodge of severa...          4\n",
       "19  \\n                    95 out of 127 found this...          1\n",
       "20  From the creators of Lost...of course I'm gonn...          4\n",
       "21  \\n                    76 out of 112 found this...          1\n",
       "22  Having seen the 1st 3 episodes i can say that ...          4\n",
       "23  \\n                    96 out of 127 found this...          1\n",
       "24  Before I decide my rating I waited for 10 epis...          4\n",
       "25  \\n                    45 out of 63 found this ...          1\n",
       "26  Godammit the pretext of the series is very int...          2\n",
       "27  \\n                    25 out of 33 found this ...          1\n",
       "28  I'm of the mindset that 90% of movies and tele...          1\n",
       "29  \\n                    10 out of 11 found this ...          5\n",
       "30  \"From\" is fantastic. Unlike the rest of garbag...          5\n",
       "31  \\n                    20 out of 27 found this ...          1\n",
       "32  Love it. It's different and creepy it's going ...          4\n",
       "33  \\n                    71 out of 105 found this...          1\n",
       "34  I was bored feeling like I had seen every movi...          4\n",
       "35  \\n                    15 out of 19 found this ...          1\n",
       "36  So the mega corps execs have been searching a ...          4\n",
       "37  \\n                    13 out of 16 found this ...          1\n",
       "38  I had really low expectations for this but I'm...          3\n",
       "39  \\n                    39 out of 61 found this ...          1\n",
       "40  What I think I loved most is I did not have to...          4\n",
       "41  \\n                    12 out of 15 found this ...          1\n",
       "42  I'm really interested in seeing how this plays...          4\n",
       "43  \\n                    10 out of 12 found this ...          5\n",
       "44  I don't typically read reviews before picking ...          5\n",
       "45  \\n                    10 out of 11 found this ...          5\n",
       "46  Early on it's always hard to tell, but sofar F...          3\n",
       "47  \\n                    62 out of 91 found this ...          1\n",
       "48  I noticed 1 rating comments getting downvoted ...          2\n",
       "49  \\n                    112 out of 187 found thi...          1\n",
       "50                                                 \\n          4"
      ]
     },
     "execution_count": 25,
     "metadata": {},
     "output_type": "execute_result"
    }
   ],
   "source": [
    "df"
   ]
  },
  {
   "cell_type": "code",
   "execution_count": 26,
   "id": "e18908f9",
   "metadata": {},
   "outputs": [
    {
     "data": {
      "text/plain": [
       "\"I noticed 1 rating comments getting downvoted into oblivion. Doesn't mean they're wrong, I too am trying to like this show because the overall concept is very interesting. But the execution feels way off. Just too many plot points defying logic and common sense.Given the consequences of opening a door or window at night, THINK would any of you who have children allow ANY of them to sleep alone in their own room? OR would any adult with a working brain choose to live in a big house with dozens of strangers, moody teenagers, and psychologically challenged individuals who do drugs, smoke weed, drink, and at the same time TRUST THAT NONE OF THEM will open a window or a door at night?There are ways to handle these type of plot points so that it makes sense but this is what happens with lazy writing. And I know, most characters in horrors make bad decisions (I've seen the Progressive commercial).. but still!?Aside from that the overall tone feels off. Wouldn't it be better to keep the tension level on HIGH, like it was at the end of episode 1? Way too often the towns people act like they're living normal progressive lives with a bright future, and not as though any mistake at night means you die a horrible death along with your friends and family. Most if not all of them should be on the verge of a mental break down!I can see the producers are trying to make a statement that people can endure and BE KIND in bad situations, but this is supposed to be HORROR, not a case study on humanity.\""
      ]
     },
     "execution_count": 26,
     "metadata": {},
     "output_type": "execute_result"
    }
   ],
   "source": [
    "df['review'].iloc[48]"
   ]
  },
  {
   "cell_type": "code",
   "execution_count": null,
   "id": "20fbbea3",
   "metadata": {},
   "outputs": [],
   "source": []
  }
 ],
 "metadata": {
  "kernelspec": {
   "display_name": "Python 3 (ipykernel)",
   "language": "python",
   "name": "python3"
  },
  "language_info": {
   "codemirror_mode": {
    "name": "ipython",
    "version": 3
   },
   "file_extension": ".py",
   "mimetype": "text/x-python",
   "name": "python",
   "nbconvert_exporter": "python",
   "pygments_lexer": "ipython3",
   "version": "3.9.13"
  }
 },
 "nbformat": 4,
 "nbformat_minor": 5
}
